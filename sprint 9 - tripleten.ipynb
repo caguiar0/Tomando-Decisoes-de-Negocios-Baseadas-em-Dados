{
 "cells": [
  {
   "cell_type": "markdown",
   "metadata": {},
   "source": [
    "<div>\n",
    "Olá, Caio!\n",
    "\n",
    "Meu nome é Luiz. Fico feliz em revisar seu projeto. Ao longo do texto farei algumas observações sobre melhorias no código e também farei comentários sobre suas percepções sobre o assunto. Estarei aberto a feedbacks e discussões sobre o tema.\n",
    "\n",
    "**Peço que mantenha e não altere os comentários que eu fizer por aqui para que possamos nos localizar posteriormente, ok?**\n",
    "\n",
    "Mais uma coisa, vamos utilizar um código de cores para você entender o meu feedback no seu notebook. Funciona assim:\n",
    "\n",
    "<div class=\"alert alert-block alert-success\">\n",
    "<b> Comentário do revisor: </b> <a class=\"tocSkip\"></a>\n",
    "\n",
    "Sucesso. Tudo foi feito corretamente.\n",
    "</div>\n",
    "\n",
    "<div class=\"alert alert-block alert-warning\">\n",
    "<b>Comentário do revisor: </b> <a class=\"tocSkip\"></a>\n",
    "\n",
    "Alerta não crítico, mas que pode ser corrigido para melhoria geral no seu código/análise.\n",
    "</div>\n",
    "\n",
    "<div class=\"alert alert-block alert-danger\">\n",
    "\n",
    "<b>Comentário do revisor: </b> <a class=\"tocSkip\"></a>\n",
    "    \n",
    "Erro que precisa ser arrumado, caso contrário seu projeto **não** será aceito.\n",
    "</div>\n",
    "\n",
    "Você pode interagir comigo através dessa célula:\n",
    "<div class=\"alert alert-block alert-info\">\n",
    "<b>Resposta do Aluno.</b> <a class=\"tocSkip\"></a>\n",
    "</div>"
   ]
  },
  {
   "cell_type": "markdown",
   "metadata": {},
   "source": [
    "<div class=\"alert alert-block alert-danger\">\n",
    "<b> Comentário do revisor v1 </b> <a class=\"tocSkip\"></a>\n",
    "<s>\n",
    "Obrigado por enviar o seu projeto e pelo esforço para executar as etapas necessárias.   \n",
    "<br>\n",
    "    \n",
    "No geral, o seu projeto está bom, você implementou corretamente a maioria das questões. Entretanto, deixei um comentário na sua conclusão final, pois precisamos de um pequeno ajuste em um ponto que é requisito para esse projeto. Peço que trabalhe nesse ponto para avançarmos.\n",
    "    \n",
    "<br>\n",
    "    \n",
    "Se tiver alguma dúvida, pode contar comigo.\n",
    "    \n",
    "<br>   \n",
    "\n",
    "**Até breve!**\n",
    "</s>\n",
    "</div>"
   ]
  },
  {
   "cell_type": "markdown",
   "metadata": {},
   "source": [
    "<div class=\"alert alert-block alert-success\">\n",
    "<b> Comentário geral do revisor v2</b> <a class=\"tocSkip\"></a>\n",
    "\n",
    "Obrigado por enviar o seu projeto e fazer os ajustes sugeridos. Essa versão do seu trabalho ficou muito melhor! Espero que as sugestões sejam relevantes para projetos futuros.\n",
    "    \n",
    "<br>\n",
    "Te desejo uma jornada de muito sucesso e aprendizado.\n",
    "    \n",
    "<br>   \n",
    "    \n",
    "Qualquer dúvida, pode contar comigo.   \n",
    "    \n",
    "<br>  \n",
    "    \n",
    "**Até breve!**\n",
    "\n",
    "</div>"
   ]
  },
  {
   "cell_type": "code",
   "execution_count": 2,
   "metadata": {},
   "outputs": [],
   "source": [
    "#Importando biblotecas\n",
    "import pandas as pd\n",
    "import datetime as dt\n",
    "import numpy as np\n",
    "from matplotlib import pyplot as plt\n",
    "import seaborn as sns\n",
    "import scipy.stats as st"
   ]
  },
  {
   "cell_type": "code",
   "execution_count": 3,
   "metadata": {},
   "outputs": [],
   "source": [
    "#Lendo arquivos\n",
    "hypotheses = pd.read_csv('/datasets/hypotheses_us.csv', sep= ';')\n",
    "orders = pd.read_csv('/datasets/orders_us.csv')\n",
    "visits = pd.read_csv('/datasets/visits_us.csv')"
   ]
  },
  {
   "cell_type": "code",
   "execution_count": 4,
   "metadata": {},
   "outputs": [
    {
     "data": {
      "text/html": [
       "<div>\n",
       "<style scoped>\n",
       "    .dataframe tbody tr th:only-of-type {\n",
       "        vertical-align: middle;\n",
       "    }\n",
       "\n",
       "    .dataframe tbody tr th {\n",
       "        vertical-align: top;\n",
       "    }\n",
       "\n",
       "    .dataframe thead th {\n",
       "        text-align: right;\n",
       "    }\n",
       "</style>\n",
       "<table border=\"1\" class=\"dataframe\">\n",
       "  <thead>\n",
       "    <tr style=\"text-align: right;\">\n",
       "      <th></th>\n",
       "      <th>Hypothesis</th>\n",
       "      <th>Reach</th>\n",
       "      <th>Impact</th>\n",
       "      <th>Confidence</th>\n",
       "      <th>Effort</th>\n",
       "    </tr>\n",
       "  </thead>\n",
       "  <tbody>\n",
       "    <tr>\n",
       "      <th>0</th>\n",
       "      <td>Add two new channels for attracting traffic. T...</td>\n",
       "      <td>3</td>\n",
       "      <td>10</td>\n",
       "      <td>8</td>\n",
       "      <td>6</td>\n",
       "    </tr>\n",
       "    <tr>\n",
       "      <th>1</th>\n",
       "      <td>Launch your own delivery service. This will sh...</td>\n",
       "      <td>2</td>\n",
       "      <td>5</td>\n",
       "      <td>4</td>\n",
       "      <td>10</td>\n",
       "    </tr>\n",
       "    <tr>\n",
       "      <th>2</th>\n",
       "      <td>Add product recommendation blocks to the store...</td>\n",
       "      <td>8</td>\n",
       "      <td>3</td>\n",
       "      <td>7</td>\n",
       "      <td>3</td>\n",
       "    </tr>\n",
       "    <tr>\n",
       "      <th>3</th>\n",
       "      <td>Change the category structure. This will incre...</td>\n",
       "      <td>8</td>\n",
       "      <td>3</td>\n",
       "      <td>3</td>\n",
       "      <td>8</td>\n",
       "    </tr>\n",
       "    <tr>\n",
       "      <th>4</th>\n",
       "      <td>Change the background color on the main page. ...</td>\n",
       "      <td>3</td>\n",
       "      <td>1</td>\n",
       "      <td>1</td>\n",
       "      <td>1</td>\n",
       "    </tr>\n",
       "    <tr>\n",
       "      <th>5</th>\n",
       "      <td>Add a customer review page. This will increase...</td>\n",
       "      <td>3</td>\n",
       "      <td>2</td>\n",
       "      <td>2</td>\n",
       "      <td>3</td>\n",
       "    </tr>\n",
       "    <tr>\n",
       "      <th>6</th>\n",
       "      <td>Show banners with current offers and sales on ...</td>\n",
       "      <td>5</td>\n",
       "      <td>3</td>\n",
       "      <td>8</td>\n",
       "      <td>3</td>\n",
       "    </tr>\n",
       "    <tr>\n",
       "      <th>7</th>\n",
       "      <td>Add a subscription form to all the main pages....</td>\n",
       "      <td>10</td>\n",
       "      <td>7</td>\n",
       "      <td>8</td>\n",
       "      <td>5</td>\n",
       "    </tr>\n",
       "    <tr>\n",
       "      <th>8</th>\n",
       "      <td>Launch a promotion that gives users discounts ...</td>\n",
       "      <td>1</td>\n",
       "      <td>9</td>\n",
       "      <td>9</td>\n",
       "      <td>5</td>\n",
       "    </tr>\n",
       "  </tbody>\n",
       "</table>\n",
       "</div>"
      ],
      "text/plain": [
       "                                          Hypothesis  Reach  Impact  \\\n",
       "0  Add two new channels for attracting traffic. T...      3      10   \n",
       "1  Launch your own delivery service. This will sh...      2       5   \n",
       "2  Add product recommendation blocks to the store...      8       3   \n",
       "3  Change the category structure. This will incre...      8       3   \n",
       "4  Change the background color on the main page. ...      3       1   \n",
       "5  Add a customer review page. This will increase...      3       2   \n",
       "6  Show banners with current offers and sales on ...      5       3   \n",
       "7  Add a subscription form to all the main pages....     10       7   \n",
       "8  Launch a promotion that gives users discounts ...      1       9   \n",
       "\n",
       "   Confidence  Effort  \n",
       "0           8       6  \n",
       "1           4      10  \n",
       "2           7       3  \n",
       "3           3       8  \n",
       "4           1       1  \n",
       "5           2       3  \n",
       "6           8       3  \n",
       "7           8       5  \n",
       "8           9       5  "
      ]
     },
     "execution_count": 4,
     "metadata": {},
     "output_type": "execute_result"
    }
   ],
   "source": [
    "hypotheses"
   ]
  },
  {
   "cell_type": "code",
   "execution_count": 5,
   "metadata": {},
   "outputs": [
    {
     "name": "stdout",
     "output_type": "stream",
     "text": [
      "<class 'pandas.core.frame.DataFrame'>\n",
      "RangeIndex: 9 entries, 0 to 8\n",
      "Data columns (total 5 columns):\n",
      " #   Column      Non-Null Count  Dtype \n",
      "---  ------      --------------  ----- \n",
      " 0   Hypothesis  9 non-null      object\n",
      " 1   Reach       9 non-null      int64 \n",
      " 2   Impact      9 non-null      int64 \n",
      " 3   Confidence  9 non-null      int64 \n",
      " 4   Effort      9 non-null      int64 \n",
      "dtypes: int64(4), object(1)\n",
      "memory usage: 488.0+ bytes\n"
     ]
    }
   ],
   "source": [
    "hypotheses.info()"
   ]
  },
  {
   "cell_type": "code",
   "execution_count": 6,
   "metadata": {},
   "outputs": [
    {
     "data": {
      "text/html": [
       "<div>\n",
       "<style scoped>\n",
       "    .dataframe tbody tr th:only-of-type {\n",
       "        vertical-align: middle;\n",
       "    }\n",
       "\n",
       "    .dataframe tbody tr th {\n",
       "        vertical-align: top;\n",
       "    }\n",
       "\n",
       "    .dataframe thead th {\n",
       "        text-align: right;\n",
       "    }\n",
       "</style>\n",
       "<table border=\"1\" class=\"dataframe\">\n",
       "  <thead>\n",
       "    <tr style=\"text-align: right;\">\n",
       "      <th></th>\n",
       "      <th>transactionId</th>\n",
       "      <th>visitorId</th>\n",
       "      <th>date</th>\n",
       "      <th>revenue</th>\n",
       "      <th>group</th>\n",
       "    </tr>\n",
       "  </thead>\n",
       "  <tbody>\n",
       "    <tr>\n",
       "      <th>0</th>\n",
       "      <td>3667963787</td>\n",
       "      <td>3312258926</td>\n",
       "      <td>2019-08-15</td>\n",
       "      <td>30.4</td>\n",
       "      <td>B</td>\n",
       "    </tr>\n",
       "    <tr>\n",
       "      <th>1</th>\n",
       "      <td>2804400009</td>\n",
       "      <td>3642806036</td>\n",
       "      <td>2019-08-15</td>\n",
       "      <td>15.2</td>\n",
       "      <td>B</td>\n",
       "    </tr>\n",
       "    <tr>\n",
       "      <th>2</th>\n",
       "      <td>2961555356</td>\n",
       "      <td>4069496402</td>\n",
       "      <td>2019-08-15</td>\n",
       "      <td>10.2</td>\n",
       "      <td>A</td>\n",
       "    </tr>\n",
       "    <tr>\n",
       "      <th>3</th>\n",
       "      <td>3797467345</td>\n",
       "      <td>1196621759</td>\n",
       "      <td>2019-08-15</td>\n",
       "      <td>155.1</td>\n",
       "      <td>B</td>\n",
       "    </tr>\n",
       "    <tr>\n",
       "      <th>4</th>\n",
       "      <td>2282983706</td>\n",
       "      <td>2322279887</td>\n",
       "      <td>2019-08-15</td>\n",
       "      <td>40.5</td>\n",
       "      <td>B</td>\n",
       "    </tr>\n",
       "    <tr>\n",
       "      <th>...</th>\n",
       "      <td>...</td>\n",
       "      <td>...</td>\n",
       "      <td>...</td>\n",
       "      <td>...</td>\n",
       "      <td>...</td>\n",
       "    </tr>\n",
       "    <tr>\n",
       "      <th>1192</th>\n",
       "      <td>2662137336</td>\n",
       "      <td>3733762160</td>\n",
       "      <td>2019-08-14</td>\n",
       "      <td>100.8</td>\n",
       "      <td>B</td>\n",
       "    </tr>\n",
       "    <tr>\n",
       "      <th>1193</th>\n",
       "      <td>2203539145</td>\n",
       "      <td>370388673</td>\n",
       "      <td>2019-08-14</td>\n",
       "      <td>50.1</td>\n",
       "      <td>A</td>\n",
       "    </tr>\n",
       "    <tr>\n",
       "      <th>1194</th>\n",
       "      <td>1807773912</td>\n",
       "      <td>573423106</td>\n",
       "      <td>2019-08-14</td>\n",
       "      <td>165.3</td>\n",
       "      <td>A</td>\n",
       "    </tr>\n",
       "    <tr>\n",
       "      <th>1195</th>\n",
       "      <td>1947021204</td>\n",
       "      <td>1614305549</td>\n",
       "      <td>2019-08-14</td>\n",
       "      <td>5.5</td>\n",
       "      <td>A</td>\n",
       "    </tr>\n",
       "    <tr>\n",
       "      <th>1196</th>\n",
       "      <td>3936777065</td>\n",
       "      <td>2108080724</td>\n",
       "      <td>2019-08-15</td>\n",
       "      <td>3120.1</td>\n",
       "      <td>B</td>\n",
       "    </tr>\n",
       "  </tbody>\n",
       "</table>\n",
       "<p>1197 rows × 5 columns</p>\n",
       "</div>"
      ],
      "text/plain": [
       "      transactionId   visitorId        date  revenue group\n",
       "0        3667963787  3312258926  2019-08-15     30.4     B\n",
       "1        2804400009  3642806036  2019-08-15     15.2     B\n",
       "2        2961555356  4069496402  2019-08-15     10.2     A\n",
       "3        3797467345  1196621759  2019-08-15    155.1     B\n",
       "4        2282983706  2322279887  2019-08-15     40.5     B\n",
       "...             ...         ...         ...      ...   ...\n",
       "1192     2662137336  3733762160  2019-08-14    100.8     B\n",
       "1193     2203539145   370388673  2019-08-14     50.1     A\n",
       "1194     1807773912   573423106  2019-08-14    165.3     A\n",
       "1195     1947021204  1614305549  2019-08-14      5.5     A\n",
       "1196     3936777065  2108080724  2019-08-15   3120.1     B\n",
       "\n",
       "[1197 rows x 5 columns]"
      ]
     },
     "execution_count": 6,
     "metadata": {},
     "output_type": "execute_result"
    }
   ],
   "source": [
    "orders"
   ]
  },
  {
   "cell_type": "code",
   "execution_count": 7,
   "metadata": {},
   "outputs": [
    {
     "name": "stdout",
     "output_type": "stream",
     "text": [
      "<class 'pandas.core.frame.DataFrame'>\n",
      "RangeIndex: 1197 entries, 0 to 1196\n",
      "Data columns (total 5 columns):\n",
      " #   Column         Non-Null Count  Dtype  \n",
      "---  ------         --------------  -----  \n",
      " 0   transactionId  1197 non-null   int64  \n",
      " 1   visitorId      1197 non-null   int64  \n",
      " 2   date           1197 non-null   object \n",
      " 3   revenue        1197 non-null   float64\n",
      " 4   group          1197 non-null   object \n",
      "dtypes: float64(1), int64(2), object(2)\n",
      "memory usage: 46.9+ KB\n"
     ]
    }
   ],
   "source": [
    "orders.info()"
   ]
  },
  {
   "cell_type": "code",
   "execution_count": 8,
   "metadata": {},
   "outputs": [
    {
     "data": {
      "text/html": [
       "<div>\n",
       "<style scoped>\n",
       "    .dataframe tbody tr th:only-of-type {\n",
       "        vertical-align: middle;\n",
       "    }\n",
       "\n",
       "    .dataframe tbody tr th {\n",
       "        vertical-align: top;\n",
       "    }\n",
       "\n",
       "    .dataframe thead th {\n",
       "        text-align: right;\n",
       "    }\n",
       "</style>\n",
       "<table border=\"1\" class=\"dataframe\">\n",
       "  <thead>\n",
       "    <tr style=\"text-align: right;\">\n",
       "      <th></th>\n",
       "      <th>date</th>\n",
       "      <th>group</th>\n",
       "      <th>visits</th>\n",
       "    </tr>\n",
       "  </thead>\n",
       "  <tbody>\n",
       "    <tr>\n",
       "      <th>0</th>\n",
       "      <td>2019-08-01</td>\n",
       "      <td>A</td>\n",
       "      <td>719</td>\n",
       "    </tr>\n",
       "    <tr>\n",
       "      <th>1</th>\n",
       "      <td>2019-08-02</td>\n",
       "      <td>A</td>\n",
       "      <td>619</td>\n",
       "    </tr>\n",
       "    <tr>\n",
       "      <th>2</th>\n",
       "      <td>2019-08-03</td>\n",
       "      <td>A</td>\n",
       "      <td>507</td>\n",
       "    </tr>\n",
       "    <tr>\n",
       "      <th>3</th>\n",
       "      <td>2019-08-04</td>\n",
       "      <td>A</td>\n",
       "      <td>717</td>\n",
       "    </tr>\n",
       "    <tr>\n",
       "      <th>4</th>\n",
       "      <td>2019-08-05</td>\n",
       "      <td>A</td>\n",
       "      <td>756</td>\n",
       "    </tr>\n",
       "    <tr>\n",
       "      <th>...</th>\n",
       "      <td>...</td>\n",
       "      <td>...</td>\n",
       "      <td>...</td>\n",
       "    </tr>\n",
       "    <tr>\n",
       "      <th>57</th>\n",
       "      <td>2019-08-27</td>\n",
       "      <td>B</td>\n",
       "      <td>720</td>\n",
       "    </tr>\n",
       "    <tr>\n",
       "      <th>58</th>\n",
       "      <td>2019-08-28</td>\n",
       "      <td>B</td>\n",
       "      <td>654</td>\n",
       "    </tr>\n",
       "    <tr>\n",
       "      <th>59</th>\n",
       "      <td>2019-08-29</td>\n",
       "      <td>B</td>\n",
       "      <td>531</td>\n",
       "    </tr>\n",
       "    <tr>\n",
       "      <th>60</th>\n",
       "      <td>2019-08-30</td>\n",
       "      <td>B</td>\n",
       "      <td>490</td>\n",
       "    </tr>\n",
       "    <tr>\n",
       "      <th>61</th>\n",
       "      <td>2019-08-31</td>\n",
       "      <td>B</td>\n",
       "      <td>718</td>\n",
       "    </tr>\n",
       "  </tbody>\n",
       "</table>\n",
       "<p>62 rows × 3 columns</p>\n",
       "</div>"
      ],
      "text/plain": [
       "          date group  visits\n",
       "0   2019-08-01     A     719\n",
       "1   2019-08-02     A     619\n",
       "2   2019-08-03     A     507\n",
       "3   2019-08-04     A     717\n",
       "4   2019-08-05     A     756\n",
       "..         ...   ...     ...\n",
       "57  2019-08-27     B     720\n",
       "58  2019-08-28     B     654\n",
       "59  2019-08-29     B     531\n",
       "60  2019-08-30     B     490\n",
       "61  2019-08-31     B     718\n",
       "\n",
       "[62 rows x 3 columns]"
      ]
     },
     "execution_count": 8,
     "metadata": {},
     "output_type": "execute_result"
    }
   ],
   "source": [
    "visits"
   ]
  },
  {
   "cell_type": "code",
   "execution_count": 9,
   "metadata": {
    "scrolled": false
   },
   "outputs": [
    {
     "name": "stdout",
     "output_type": "stream",
     "text": [
      "<class 'pandas.core.frame.DataFrame'>\n",
      "RangeIndex: 62 entries, 0 to 61\n",
      "Data columns (total 3 columns):\n",
      " #   Column  Non-Null Count  Dtype \n",
      "---  ------  --------------  ----- \n",
      " 0   date    62 non-null     object\n",
      " 1   group   62 non-null     object\n",
      " 2   visits  62 non-null     int64 \n",
      "dtypes: int64(1), object(2)\n",
      "memory usage: 1.6+ KB\n"
     ]
    }
   ],
   "source": [
    "visits.info()"
   ]
  },
  {
   "cell_type": "code",
   "execution_count": 10,
   "metadata": {
    "scrolled": false
   },
   "outputs": [
    {
     "data": {
      "text/plain": [
       "0    False\n",
       "1    False\n",
       "2    False\n",
       "3    False\n",
       "4    False\n",
       "5    False\n",
       "6    False\n",
       "7    False\n",
       "8    False\n",
       "dtype: bool"
      ]
     },
     "execution_count": 10,
     "metadata": {},
     "output_type": "execute_result"
    }
   ],
   "source": [
    "#Verificando dados duplicados\n",
    "hypotheses.duplicated()"
   ]
  },
  {
   "cell_type": "code",
   "execution_count": 11,
   "metadata": {
    "scrolled": false
   },
   "outputs": [
    {
     "data": {
      "text/plain": [
       "0       False\n",
       "1       False\n",
       "2       False\n",
       "3       False\n",
       "4       False\n",
       "        ...  \n",
       "1192    False\n",
       "1193    False\n",
       "1194    False\n",
       "1195    False\n",
       "1196    False\n",
       "Length: 1197, dtype: bool"
      ]
     },
     "execution_count": 11,
     "metadata": {},
     "output_type": "execute_result"
    }
   ],
   "source": [
    "orders.duplicated()"
   ]
  },
  {
   "cell_type": "code",
   "execution_count": 12,
   "metadata": {
    "scrolled": true
   },
   "outputs": [
    {
     "data": {
      "text/plain": [
       "0     False\n",
       "1     False\n",
       "2     False\n",
       "3     False\n",
       "4     False\n",
       "      ...  \n",
       "57    False\n",
       "58    False\n",
       "59    False\n",
       "60    False\n",
       "61    False\n",
       "Length: 62, dtype: bool"
      ]
     },
     "execution_count": 12,
     "metadata": {},
     "output_type": "execute_result"
    }
   ],
   "source": [
    "visits.duplicated()"
   ]
  },
  {
   "cell_type": "markdown",
   "metadata": {},
   "source": [
    "Não há dados duplicados"
   ]
  },
  {
   "cell_type": "code",
   "execution_count": 13,
   "metadata": {
    "scrolled": true
   },
   "outputs": [
    {
     "data": {
      "text/html": [
       "<div>\n",
       "<style scoped>\n",
       "    .dataframe tbody tr th:only-of-type {\n",
       "        vertical-align: middle;\n",
       "    }\n",
       "\n",
       "    .dataframe tbody tr th {\n",
       "        vertical-align: top;\n",
       "    }\n",
       "\n",
       "    .dataframe thead th {\n",
       "        text-align: right;\n",
       "    }\n",
       "</style>\n",
       "<table border=\"1\" class=\"dataframe\">\n",
       "  <thead>\n",
       "    <tr style=\"text-align: right;\">\n",
       "      <th></th>\n",
       "      <th>Hypothesis</th>\n",
       "      <th>Reach</th>\n",
       "      <th>Impact</th>\n",
       "      <th>Confidence</th>\n",
       "      <th>Effort</th>\n",
       "    </tr>\n",
       "  </thead>\n",
       "  <tbody>\n",
       "    <tr>\n",
       "      <th>0</th>\n",
       "      <td>False</td>\n",
       "      <td>False</td>\n",
       "      <td>False</td>\n",
       "      <td>False</td>\n",
       "      <td>False</td>\n",
       "    </tr>\n",
       "    <tr>\n",
       "      <th>1</th>\n",
       "      <td>False</td>\n",
       "      <td>False</td>\n",
       "      <td>False</td>\n",
       "      <td>False</td>\n",
       "      <td>False</td>\n",
       "    </tr>\n",
       "    <tr>\n",
       "      <th>2</th>\n",
       "      <td>False</td>\n",
       "      <td>False</td>\n",
       "      <td>False</td>\n",
       "      <td>False</td>\n",
       "      <td>False</td>\n",
       "    </tr>\n",
       "    <tr>\n",
       "      <th>3</th>\n",
       "      <td>False</td>\n",
       "      <td>False</td>\n",
       "      <td>False</td>\n",
       "      <td>False</td>\n",
       "      <td>False</td>\n",
       "    </tr>\n",
       "    <tr>\n",
       "      <th>4</th>\n",
       "      <td>False</td>\n",
       "      <td>False</td>\n",
       "      <td>False</td>\n",
       "      <td>False</td>\n",
       "      <td>False</td>\n",
       "    </tr>\n",
       "    <tr>\n",
       "      <th>5</th>\n",
       "      <td>False</td>\n",
       "      <td>False</td>\n",
       "      <td>False</td>\n",
       "      <td>False</td>\n",
       "      <td>False</td>\n",
       "    </tr>\n",
       "    <tr>\n",
       "      <th>6</th>\n",
       "      <td>False</td>\n",
       "      <td>False</td>\n",
       "      <td>False</td>\n",
       "      <td>False</td>\n",
       "      <td>False</td>\n",
       "    </tr>\n",
       "    <tr>\n",
       "      <th>7</th>\n",
       "      <td>False</td>\n",
       "      <td>False</td>\n",
       "      <td>False</td>\n",
       "      <td>False</td>\n",
       "      <td>False</td>\n",
       "    </tr>\n",
       "    <tr>\n",
       "      <th>8</th>\n",
       "      <td>False</td>\n",
       "      <td>False</td>\n",
       "      <td>False</td>\n",
       "      <td>False</td>\n",
       "      <td>False</td>\n",
       "    </tr>\n",
       "  </tbody>\n",
       "</table>\n",
       "</div>"
      ],
      "text/plain": [
       "   Hypothesis  Reach  Impact  Confidence  Effort\n",
       "0       False  False   False       False   False\n",
       "1       False  False   False       False   False\n",
       "2       False  False   False       False   False\n",
       "3       False  False   False       False   False\n",
       "4       False  False   False       False   False\n",
       "5       False  False   False       False   False\n",
       "6       False  False   False       False   False\n",
       "7       False  False   False       False   False\n",
       "8       False  False   False       False   False"
      ]
     },
     "execution_count": 13,
     "metadata": {},
     "output_type": "execute_result"
    }
   ],
   "source": [
    "#Verificando valores ausentes\n",
    "hypotheses.isna()"
   ]
  },
  {
   "cell_type": "code",
   "execution_count": 14,
   "metadata": {},
   "outputs": [
    {
     "data": {
      "text/html": [
       "<div>\n",
       "<style scoped>\n",
       "    .dataframe tbody tr th:only-of-type {\n",
       "        vertical-align: middle;\n",
       "    }\n",
       "\n",
       "    .dataframe tbody tr th {\n",
       "        vertical-align: top;\n",
       "    }\n",
       "\n",
       "    .dataframe thead th {\n",
       "        text-align: right;\n",
       "    }\n",
       "</style>\n",
       "<table border=\"1\" class=\"dataframe\">\n",
       "  <thead>\n",
       "    <tr style=\"text-align: right;\">\n",
       "      <th></th>\n",
       "      <th>transactionId</th>\n",
       "      <th>visitorId</th>\n",
       "      <th>date</th>\n",
       "      <th>revenue</th>\n",
       "      <th>group</th>\n",
       "    </tr>\n",
       "  </thead>\n",
       "  <tbody>\n",
       "    <tr>\n",
       "      <th>0</th>\n",
       "      <td>False</td>\n",
       "      <td>False</td>\n",
       "      <td>False</td>\n",
       "      <td>False</td>\n",
       "      <td>False</td>\n",
       "    </tr>\n",
       "    <tr>\n",
       "      <th>1</th>\n",
       "      <td>False</td>\n",
       "      <td>False</td>\n",
       "      <td>False</td>\n",
       "      <td>False</td>\n",
       "      <td>False</td>\n",
       "    </tr>\n",
       "    <tr>\n",
       "      <th>2</th>\n",
       "      <td>False</td>\n",
       "      <td>False</td>\n",
       "      <td>False</td>\n",
       "      <td>False</td>\n",
       "      <td>False</td>\n",
       "    </tr>\n",
       "    <tr>\n",
       "      <th>3</th>\n",
       "      <td>False</td>\n",
       "      <td>False</td>\n",
       "      <td>False</td>\n",
       "      <td>False</td>\n",
       "      <td>False</td>\n",
       "    </tr>\n",
       "    <tr>\n",
       "      <th>4</th>\n",
       "      <td>False</td>\n",
       "      <td>False</td>\n",
       "      <td>False</td>\n",
       "      <td>False</td>\n",
       "      <td>False</td>\n",
       "    </tr>\n",
       "    <tr>\n",
       "      <th>...</th>\n",
       "      <td>...</td>\n",
       "      <td>...</td>\n",
       "      <td>...</td>\n",
       "      <td>...</td>\n",
       "      <td>...</td>\n",
       "    </tr>\n",
       "    <tr>\n",
       "      <th>1192</th>\n",
       "      <td>False</td>\n",
       "      <td>False</td>\n",
       "      <td>False</td>\n",
       "      <td>False</td>\n",
       "      <td>False</td>\n",
       "    </tr>\n",
       "    <tr>\n",
       "      <th>1193</th>\n",
       "      <td>False</td>\n",
       "      <td>False</td>\n",
       "      <td>False</td>\n",
       "      <td>False</td>\n",
       "      <td>False</td>\n",
       "    </tr>\n",
       "    <tr>\n",
       "      <th>1194</th>\n",
       "      <td>False</td>\n",
       "      <td>False</td>\n",
       "      <td>False</td>\n",
       "      <td>False</td>\n",
       "      <td>False</td>\n",
       "    </tr>\n",
       "    <tr>\n",
       "      <th>1195</th>\n",
       "      <td>False</td>\n",
       "      <td>False</td>\n",
       "      <td>False</td>\n",
       "      <td>False</td>\n",
       "      <td>False</td>\n",
       "    </tr>\n",
       "    <tr>\n",
       "      <th>1196</th>\n",
       "      <td>False</td>\n",
       "      <td>False</td>\n",
       "      <td>False</td>\n",
       "      <td>False</td>\n",
       "      <td>False</td>\n",
       "    </tr>\n",
       "  </tbody>\n",
       "</table>\n",
       "<p>1197 rows × 5 columns</p>\n",
       "</div>"
      ],
      "text/plain": [
       "      transactionId  visitorId   date  revenue  group\n",
       "0             False      False  False    False  False\n",
       "1             False      False  False    False  False\n",
       "2             False      False  False    False  False\n",
       "3             False      False  False    False  False\n",
       "4             False      False  False    False  False\n",
       "...             ...        ...    ...      ...    ...\n",
       "1192          False      False  False    False  False\n",
       "1193          False      False  False    False  False\n",
       "1194          False      False  False    False  False\n",
       "1195          False      False  False    False  False\n",
       "1196          False      False  False    False  False\n",
       "\n",
       "[1197 rows x 5 columns]"
      ]
     },
     "execution_count": 14,
     "metadata": {},
     "output_type": "execute_result"
    }
   ],
   "source": [
    "orders.isna()"
   ]
  },
  {
   "cell_type": "code",
   "execution_count": 15,
   "metadata": {
    "scrolled": false
   },
   "outputs": [
    {
     "data": {
      "text/html": [
       "<div>\n",
       "<style scoped>\n",
       "    .dataframe tbody tr th:only-of-type {\n",
       "        vertical-align: middle;\n",
       "    }\n",
       "\n",
       "    .dataframe tbody tr th {\n",
       "        vertical-align: top;\n",
       "    }\n",
       "\n",
       "    .dataframe thead th {\n",
       "        text-align: right;\n",
       "    }\n",
       "</style>\n",
       "<table border=\"1\" class=\"dataframe\">\n",
       "  <thead>\n",
       "    <tr style=\"text-align: right;\">\n",
       "      <th></th>\n",
       "      <th>date</th>\n",
       "      <th>group</th>\n",
       "      <th>visits</th>\n",
       "    </tr>\n",
       "  </thead>\n",
       "  <tbody>\n",
       "    <tr>\n",
       "      <th>0</th>\n",
       "      <td>False</td>\n",
       "      <td>False</td>\n",
       "      <td>False</td>\n",
       "    </tr>\n",
       "    <tr>\n",
       "      <th>1</th>\n",
       "      <td>False</td>\n",
       "      <td>False</td>\n",
       "      <td>False</td>\n",
       "    </tr>\n",
       "    <tr>\n",
       "      <th>2</th>\n",
       "      <td>False</td>\n",
       "      <td>False</td>\n",
       "      <td>False</td>\n",
       "    </tr>\n",
       "    <tr>\n",
       "      <th>3</th>\n",
       "      <td>False</td>\n",
       "      <td>False</td>\n",
       "      <td>False</td>\n",
       "    </tr>\n",
       "    <tr>\n",
       "      <th>4</th>\n",
       "      <td>False</td>\n",
       "      <td>False</td>\n",
       "      <td>False</td>\n",
       "    </tr>\n",
       "    <tr>\n",
       "      <th>...</th>\n",
       "      <td>...</td>\n",
       "      <td>...</td>\n",
       "      <td>...</td>\n",
       "    </tr>\n",
       "    <tr>\n",
       "      <th>57</th>\n",
       "      <td>False</td>\n",
       "      <td>False</td>\n",
       "      <td>False</td>\n",
       "    </tr>\n",
       "    <tr>\n",
       "      <th>58</th>\n",
       "      <td>False</td>\n",
       "      <td>False</td>\n",
       "      <td>False</td>\n",
       "    </tr>\n",
       "    <tr>\n",
       "      <th>59</th>\n",
       "      <td>False</td>\n",
       "      <td>False</td>\n",
       "      <td>False</td>\n",
       "    </tr>\n",
       "    <tr>\n",
       "      <th>60</th>\n",
       "      <td>False</td>\n",
       "      <td>False</td>\n",
       "      <td>False</td>\n",
       "    </tr>\n",
       "    <tr>\n",
       "      <th>61</th>\n",
       "      <td>False</td>\n",
       "      <td>False</td>\n",
       "      <td>False</td>\n",
       "    </tr>\n",
       "  </tbody>\n",
       "</table>\n",
       "<p>62 rows × 3 columns</p>\n",
       "</div>"
      ],
      "text/plain": [
       "     date  group  visits\n",
       "0   False  False   False\n",
       "1   False  False   False\n",
       "2   False  False   False\n",
       "3   False  False   False\n",
       "4   False  False   False\n",
       "..    ...    ...     ...\n",
       "57  False  False   False\n",
       "58  False  False   False\n",
       "59  False  False   False\n",
       "60  False  False   False\n",
       "61  False  False   False\n",
       "\n",
       "[62 rows x 3 columns]"
      ]
     },
     "execution_count": 15,
     "metadata": {},
     "output_type": "execute_result"
    }
   ],
   "source": [
    "visits.isna()"
   ]
  },
  {
   "cell_type": "markdown",
   "metadata": {},
   "source": [
    "Não há dados ausentes"
   ]
  },
  {
   "cell_type": "markdown",
   "metadata": {},
   "source": [
    "<div class=\"alert alert-block alert-success\">\n",
    "<b> Comentário do revisor: </b> <a class=\"tocSkip\"></a>\n",
    "    \n",
    "- O conjunto de dados foi carregado corretamente usando o separador `;`\n",
    "- O import das bibliotecas foi feito de forma correta e em uma célula separada\n",
    "- O método `info()` foi utilizado para estudo inicial dos dados\n",
    "\n",
    "</div>"
   ]
  },
  {
   "cell_type": "markdown",
   "metadata": {},
   "source": [
    "<div class=\"alert alert-block alert-warning\">\n",
    "<b> Comentário do revisor: </b> <a class=\"tocSkip\"></a>\n",
    "    \n",
    "\n",
    "- Os métodos `head()` e `describe()` poderiam ser utilizados para exibir uma amostra dos dados\n",
    "- Você poderia ter convertido os nomes das colunas para seguir o padrão `snake_case`\n",
    "</div>"
   ]
  },
  {
   "cell_type": "markdown",
   "metadata": {},
   "source": [
    "<div class=\"alert alert-block alert-info\">\n",
    "<b>Resposta do Aluno.</b> <a class=\"tocSkip\"></a>\n",
    "\n",
    "Não apliquei o metodo acima na revisao para não preisar trocar todos os dados nese momento da tarefa, mas lembrarei daqui pra frente</div>"
   ]
  },
  {
   "cell_type": "markdown",
   "metadata": {},
   "source": [
    "<div class=\"alert alert-block alert-danger\">\n",
    "<b> Comentário do revisor: </b> <a class=\"tocSkip\"></a>\n",
    "    \n",
    "<s>Aqui você precisa fazer um estudo de dados duplicados e ausentes também</s>\n",
    "</div>"
   ]
  },
  {
   "cell_type": "markdown",
   "metadata": {},
   "source": [
    "# Primeira parte"
   ]
  },
  {
   "cell_type": "code",
   "execution_count": 16,
   "metadata": {},
   "outputs": [
    {
     "name": "stdout",
     "output_type": "stream",
     "text": [
      "                                          Hypothesis        ICE\n",
      "8  Launch a promotion that gives users discounts ...  16.200000\n",
      "0  Add two new channels for attracting traffic. T...  13.333333\n",
      "7  Add a subscription form to all the main pages....  11.200000\n",
      "6  Show banners with current offers and sales on ...   8.000000\n",
      "2  Add product recommendation blocks to the store...   7.000000\n",
      "1  Launch your own delivery service. This will sh...   2.000000\n",
      "5  Add a customer review page. This will increase...   1.333333\n",
      "3  Change the category structure. This will incre...   1.125000\n",
      "4  Change the background color on the main page. ...   1.000000\n"
     ]
    }
   ],
   "source": [
    "#Priorizando hipoteses co ICE\n",
    "hypotheses['ICE'] = (hypotheses['Impact']*hypotheses['Confidence'])/hypotheses['Effort']\n",
    "print(hypotheses[['Hypothesis','ICE']].sort_values(by='ICE', ascending=False))"
   ]
  },
  {
   "cell_type": "code",
   "execution_count": 17,
   "metadata": {},
   "outputs": [
    {
     "name": "stdout",
     "output_type": "stream",
     "text": [
      "                                          Hypothesis   RICE\n",
      "7  Add a subscription form to all the main pages....  112.0\n",
      "2  Add product recommendation blocks to the store...   56.0\n",
      "0  Add two new channels for attracting traffic. T...   40.0\n",
      "6  Show banners with current offers and sales on ...   40.0\n",
      "8  Launch a promotion that gives users discounts ...   16.2\n",
      "3  Change the category structure. This will incre...    9.0\n",
      "1  Launch your own delivery service. This will sh...    4.0\n",
      "5  Add a customer review page. This will increase...    4.0\n",
      "4  Change the background color on the main page. ...    3.0\n"
     ]
    }
   ],
   "source": [
    "#Priorizando hipoteses com RICE\n",
    "hypotheses['RICE'] = (hypotheses['Reach']*hypotheses['Impact']*hypotheses['Confidence'])/hypotheses['Effort']\n",
    "print(hypotheses[['Hypothesis','RICE']].sort_values(by='RICE', ascending=False))"
   ]
  },
  {
   "cell_type": "markdown",
   "metadata": {},
   "source": [
    "A única diferença entre um metodo e o outro é o fato do metodo RICE também considerar um o alcance('Reach') da atualização que se deseja introduzir"
   ]
  },
  {
   "cell_type": "markdown",
   "metadata": {},
   "source": [
    "<div class=\"alert alert-block alert-success\">\n",
    "<b> Comentário do revisor: </b> <a class=\"tocSkip\"></a>\n",
    "\n",
    "- Os indicadores `ICE` e `RICE` foram calculados corretamente para estimar o impacto de hipóteses.\n",
    "- As hipóteses foram ordenadas corretamente pelos scores criados\n",
    "</div>"
   ]
  },
  {
   "cell_type": "markdown",
   "metadata": {},
   "source": [
    "# Segunda parte"
   ]
  },
  {
   "cell_type": "code",
   "execution_count": 18,
   "metadata": {},
   "outputs": [],
   "source": [
    "orders['date'] = pd.to_datetime(orders['date'], format=\"%Y-%m-%d\")\n",
    "visits['date'] = pd.to_datetime(visits['date'], format=\"%Y-%m-%d\")"
   ]
  },
  {
   "cell_type": "code",
   "execution_count": 19,
   "metadata": {},
   "outputs": [],
   "source": [
    "datesGroups = orders[['date', 'group']].drop_duplicates()\n",
    "\n",
    "ordersAggregated = datesGroups.apply(\n",
    "    lambda x: orders[\n",
    "        np.logical_and(\n",
    "            orders['date'] <= x['date'], orders['group'] == x['group']\n",
    "        )\n",
    "    ].agg(\n",
    "        {\n",
    "            'date': 'max',\n",
    "            'group': 'max',\n",
    "            'transactionId': pd.Series.nunique,\n",
    "            'visitorId': pd.Series.nunique,\n",
    "            'revenue': 'sum',\n",
    "        }\n",
    "    ),\n",
    "    axis=1,\n",
    ").sort_values(by=['date', 'group'])\n",
    "\n",
    "visitsAggregated = datesGroups.apply(\n",
    "    lambda x: visits[\n",
    "        np.logical_and(\n",
    "            visits['date'] <= x['date'], visits['group'] == x['group']\n",
    "        )\n",
    "    ].agg({'date': 'max', 'group': 'max', 'visits': 'sum'}),\n",
    "    axis=1,\n",
    ").sort_values(by=['date', 'group'])\n",
    "\n",
    "cumulativeData = ordersAggregated.merge(\n",
    "    visitsAggregated, left_on=['date', 'group'], right_on=['date', 'group']\n",
    ")\n",
    "cumulativeData.columns = [\n",
    "    'date',\n",
    "    'group',\n",
    "    'orders',\n",
    "    'buyers',\n",
    "    'revenue',\n",
    "    'visits',\n",
    "]"
   ]
  },
  {
   "cell_type": "code",
   "execution_count": 20,
   "metadata": {
    "scrolled": false
   },
   "outputs": [
    {
     "data": {
      "text/plain": [
       "<matplotlib.legend.Legend at 0x7fdc56c22760>"
      ]
     },
     "execution_count": 20,
     "metadata": {},
     "output_type": "execute_result"
    },
    {
     "data": {
      "image/png": "[encoded data removed]",
      "text/plain": [
       "<Figure size 1300x800 with 1 Axes>"
      ]
     },
     "metadata": {},
     "output_type": "display_data"
    }
   ],
   "source": [
    "#Gráfico da receita acumulada por grupo\n",
    "cumulativeRevenueA = cumulativeData[cumulativeData['group'] == 'A'][\n",
    "    ['date', 'revenue', 'orders']\n",
    "]\n",
    "cumulativeRevenueB = cumulativeData[cumulativeData['group'] == 'B'][\n",
    "    ['date', 'revenue', 'orders']\n",
    "]\n",
    "\n",
    "\n",
    "plt.figure(figsize=(13,8))\n",
    "plt.title('Receita acumalada por grupo')\n",
    "plt.plot(cumulativeRevenueA['date'], cumulativeRevenueA['revenue'], label='A')\n",
    "plt.plot(cumulativeRevenueB['date'], cumulativeRevenueB['revenue'], label='B')\n",
    "plt.legend()"
   ]
  },
  {
   "cell_type": "markdown",
   "metadata": {},
   "source": [
    "O grupo B é nitidamente mais efetivo do que o grupo A. Com essas informações pode parar de rodar o teste"
   ]
  },
  {
   "cell_type": "markdown",
   "metadata": {},
   "source": [
    "<div class=\"alert alert-block alert-success\">\n",
    "<b> Comentário do revisor: </b> <a class=\"tocSkip\"></a>\n",
    "    \n",
    "- O gráfico de receita acumulada por grupo foi criado corretamente\n",
    "- As observações foram apresentadas\n",
    "</div>"
   ]
  },
  {
   "cell_type": "code",
   "execution_count": 21,
   "metadata": {
    "scrolled": false
   },
   "outputs": [
    {
     "data": {
      "text/plain": [
       "<matplotlib.legend.Legend at 0x7fdc5680fb20>"
      ]
     },
     "execution_count": 21,
     "metadata": {},
     "output_type": "execute_result"
    },
    {
     "data": {
      "image/png": "[encoded data removed]",
      "text/plain": [
       "<Figure size 1300x800 with 1 Axes>"
      ]
     },
     "metadata": {},
     "output_type": "display_data"
    }
   ],
   "source": [
    "#gráfico do tamanho médio acumulado do pedido por grupo\n",
    "plt.figure(figsize=(13,8))\n",
    "plt.title('Tamanho médio acumulado do pedido por grupo ')\n",
    "plt.plot(\n",
    "    cumulativeRevenueA['date'],\n",
    "    cumulativeRevenueA['revenue'] / cumulativeRevenueA['orders'],\n",
    "    label='A',\n",
    ")\n",
    "plt.plot(\n",
    "    cumulativeRevenueB['date'],\n",
    "    cumulativeRevenueB['revenue'] / cumulativeRevenueB['orders'],\n",
    "    label='B',\n",
    ")\n",
    "plt.legend()"
   ]
  },
  {
   "cell_type": "markdown",
   "metadata": {},
   "source": [
    " O grupo B apresenta um número médio de pedidos acumulados nitidamene maior do que o do grupo A"
   ]
  },
  {
   "cell_type": "markdown",
   "metadata": {},
   "source": [
    "<div class=\"alert alert-block alert-success\">\n",
    "<b> Comentário do revisor: </b> <a class=\"tocSkip\"></a>\n",
    "    \n",
    "- O valor médio de compra por grupo foi calculado.\n",
    "- As conclusões foram apresentadas\n",
    "</div>"
   ]
  },
  {
   "cell_type": "code",
   "execution_count": 22,
   "metadata": {},
   "outputs": [],
   "source": [
    "#Calculando a taxa taxa de conversão de cada grupo como a proporção de pedidos para o número de visitas para cada dia\n",
    "cumulativeData['conversion'] = (\n",
    "    cumulativeData['orders'] / cumulativeData['visits']\n",
    ")\n",
    "\n",
    "cumulativeDataA = cumulativeData[cumulativeData['group'] == 'A']\n",
    "cumulativeDataB = cumulativeData[cumulativeData['group'] == 'B']"
   ]
  },
  {
   "cell_type": "code",
   "execution_count": 23,
   "metadata": {
    "scrolled": false
   },
   "outputs": [
    {
     "data": {
      "text/plain": [
       "<matplotlib.lines.Line2D at 0x7fdc56c5e910>"
      ]
     },
     "execution_count": 23,
     "metadata": {},
     "output_type": "execute_result"
    },
    {
     "data": {
      "image/png": "[encoded data removed]",
      "text/plain": [
       "<Figure size 1300x800 with 1 Axes>"
      ]
     },
     "metadata": {},
     "output_type": "display_data"
    }
   ],
   "source": [
    "#Gráfico da diferença relativa no tamanho médio acumulado do pedido para o grupo B em comparação com o grupo A\n",
    "mergedCumulativeConversions = cumulativeDataA[['date', 'conversion']].merge(\n",
    "    cumulativeDataB[['date', 'conversion']],\n",
    "    left_on='date',\n",
    "    right_on='date',\n",
    "    how='left',\n",
    "    suffixes=['A', 'B'],\n",
    ")\n",
    "plt.figure(figsize=(13,8))\n",
    "plt.title('Diferença relativa no tamanho médio acumulado do pedido para o grupo B em comparação com o grupo A')\n",
    "plt.plot(\n",
    "    mergedCumulativeConversions['date'],\n",
    "    mergedCumulativeConversions['conversionB'] / mergedCumulativeConversions['conversionA']- 1\n",
    ")\n",
    "plt.axhline(y=0, color='black', linestyle='--')"
   ]
  },
  {
   "cell_type": "markdown",
   "metadata": {},
   "source": [
    "O grupo B esta começando a se estabilizar proximo aos 15% e seus resultados estao nitidamente mais efetivos em relação ao grupo A"
   ]
  },
  {
   "cell_type": "markdown",
   "metadata": {},
   "source": [
    "<div class=\"alert alert-block alert-danger\">\n",
    "<b> Comentário do revisor: </b> <a class=\"tocSkip\"></a>\n",
    "    \n",
    "<s>Aqui ficou pendente a sua interpretação dos resultados acima.</s>\n",
    "</div>"
   ]
  },
  {
   "cell_type": "code",
   "execution_count": 24,
   "metadata": {
    "scrolled": false
   },
   "outputs": [
    {
     "data": {
      "text/plain": [
       "<matplotlib.legend.Legend at 0x7fdc56b909a0>"
      ]
     },
     "execution_count": 24,
     "metadata": {},
     "output_type": "execute_result"
    },
    {
     "data": {
      "image/png": "[encoded data removed]",
      "text/plain": [
       "<Figure size 1300x800 with 1 Axes>"
      ]
     },
     "metadata": {},
     "output_type": "display_data"
    }
   ],
   "source": [
    "#Gráfico da taxa de conversão de cada grupo como a proporção de pedidos para o número de visitas para cada dia\n",
    "plt.figure(figsize=(13,8))\n",
    "plt.title('Taxa de conversão diaria para cada grupo')\n",
    "plt.plot(cumulativeDataA['date'], cumulativeDataA['conversion'], label='A')\n",
    "plt.plot(cumulativeDataB['date'], cumulativeDataB['conversion'], label='B')\n",
    "plt.legend()"
   ]
  },
  {
   "cell_type": "markdown",
   "metadata": {},
   "source": [
    "Ao decorrer do teste ficou laro que o grpo B tem uma taxa de conversão diaria nidamente maior qu o grupo A "
   ]
  },
  {
   "cell_type": "markdown",
   "metadata": {},
   "source": [
    "<div class=\"alert alert-block alert-danger\">\n",
    "<b> Comentário do revisor: </b> <a class=\"tocSkip\"></a>\n",
    "    \n",
    "<s>Aqui ficou pendente a sua interpretação dos resultados acima.</s>\n",
    "</div>"
   ]
  },
  {
   "cell_type": "code",
   "execution_count": 25,
   "metadata": {
    "scrolled": false
   },
   "outputs": [
    {
     "name": "stdout",
     "output_type": "stream",
     "text": [
      "       visitorId  transaction\n",
      "1023  4256040402           11\n",
      "591   2458001652           11\n",
      "569   2378935119            9\n",
      "487   2038680547            8\n",
      "44     199603092            5\n",
      "744   3062433592            5\n",
      "55     237748145            5\n",
      "917   3803269165            5\n",
      "299   1230306981            5\n",
      "897   3717692402            5\n",
      "[2. 4.]\n"
     ]
    }
   ],
   "source": [
    "#Calculando os percentis 95 e 99 para o número de pedidos por usuário\n",
    "ordersByUsers = (\n",
    "    orders.drop(['group', 'revenue', 'date'], axis=1)\n",
    "    .groupby('visitorId', as_index=False)\n",
    "    .agg({'transactionId': pd.Series.nunique})\n",
    ")\n",
    "\n",
    "ordersByUsers.columns = ['visitorId', 'transaction']\n",
    "\n",
    "print(ordersByUsers.sort_values(by='transaction', ascending=False).head(10))\n",
    "\n",
    "print(np.percentile(ordersByUsers['transaction'], [95, 99]))"
   ]
  },
  {
   "cell_type": "markdown",
   "metadata": {},
   "source": [
    "Menos de 5% dos usuários fez mais do que dois pedidos, e menos de 1% fez mais do que quatro"
   ]
  },
  {
   "cell_type": "markdown",
   "metadata": {},
   "source": [
    "<div class=\"alert alert-block alert-danger\">\n",
    "<b> Comentário do revisor: </b> <a class=\"tocSkip\"></a>\n",
    "    \n",
    "<s>Aqui ficou pendente a sua interpretação dos resultados acima.</s>\n",
    "</div>"
   ]
  },
  {
   "cell_type": "code",
   "execution_count": 26,
   "metadata": {},
   "outputs": [
    {
     "data": {
      "text/plain": [
       "<matplotlib.collections.PathCollection at 0x7fdc56b0bfa0>"
      ]
     },
     "execution_count": 26,
     "metadata": {},
     "output_type": "execute_result"
    },
    {
     "data": {
      "image/png": "[encoded data removed]",
      "text/plain": [
       "<Figure size 640x480 with 1 Axes>"
      ]
     },
     "metadata": {},
     "output_type": "display_data"
    }
   ],
   "source": [
    "#Gráfico de dispersão dos preços dos pedidos\n",
    "x_values = pd.Series(range(0,len(orders['revenue'])))\n",
    "\n",
    "plt.title('Dispersão dos preços dos pedidos')\n",
    "plt.scatter(x_values, orders['revenue'])"
   ]
  },
  {
   "cell_type": "markdown",
   "metadata": {},
   "source": [
    "A maior parte dos pedidos são de valor menores que 2500 apenas dois ultrapasaram esse valor, tendo apenas um desses pedidos batido o valor de 20000 enquano o outro pedido ficou com um valor entre 2500 e 5000. Portanto esses dois valores devem ser considerados anormais."
   ]
  },
  {
   "cell_type": "markdown",
   "metadata": {},
   "source": [
    "<div class=\"alert alert-block alert-danger\">\n",
    "<b> Comentário do revisor: </b> <a class=\"tocSkip\"></a>\n",
    "    \n",
    "<s>Aqui ficou pendente a sua interpretação dos resultados acima.</s>\n",
    "</div>"
   ]
  },
  {
   "cell_type": "code",
   "execution_count": 27,
   "metadata": {
    "scrolled": true
   },
   "outputs": [
    {
     "name": "stdout",
     "output_type": "stream",
     "text": [
      "   transactionId   visitorId       date  revenue group\n",
      "0     3667963787  3312258926 2019-08-15     30.4     B\n",
      "1     2804400009  3642806036 2019-08-15     15.2     B\n",
      "2     2961555356  4069496402 2019-08-15     10.2     A\n",
      "3     3797467345  1196621759 2019-08-15    155.1     B\n",
      "4     2282983706  2322279887 2019-08-15     40.5     B\n",
      "5      182168103   935554773 2019-08-15     35.0     B\n",
      "6      398296753  2900797465 2019-08-15     30.6     B\n",
      "7     2626614568    78758296 2019-08-15     20.1     A\n",
      "8     1576988021   295230930 2019-08-15    215.9     A\n",
      "9     1506739906  1882260405 2019-08-15     30.5     B\n",
      "[435.54  900.904]\n"
     ]
    }
   ],
   "source": [
    "#Calculando os percentis 95 e 99 para o número de pedidos por usuário\n",
    "print(orders.head(10))\n",
    "print(np.percentile(orders['revenue'], [95, 99]))"
   ]
  },
  {
   "cell_type": "markdown",
   "metadata": {},
   "source": [
    "Menos de 5% dos usuários fez um pedido maior que o valor 435.54, e menos de 1% fez um pedido acima do valor de 900.9"
   ]
  },
  {
   "cell_type": "markdown",
   "metadata": {},
   "source": [
    "<div class=\"alert alert-block alert-danger\">\n",
    "<b> Comentário do revisor: </b> <a class=\"tocSkip\"></a>\n",
    "    \n",
    "<s>Aqui ficou pendente a sua interpretação dos resultados acima.</s>\n",
    "</div>"
   ]
  },
  {
   "cell_type": "code",
   "execution_count": 28,
   "metadata": {},
   "outputs": [
    {
     "name": "stdout",
     "output_type": "stream",
     "text": [
      "0.138\n"
     ]
    }
   ],
   "source": [
    "#Significância estatística da diferença na conversão entre os grupos usando os dados brutos\n",
    "ordersByUsersA = (\n",
    "    orders[orders['group'] == 'A']\n",
    "    .groupby('visitorId', as_index=False)\n",
    "    .agg({'transactionId': pd.Series.nunique})\n",
    ")\n",
    "ordersByUsersA.columns = ['visitorId', 'transaction']\n",
    "\n",
    "ordersByUsersB = (\n",
    "    orders[orders['group'] == 'B']\n",
    "    .groupby('visitorId', as_index=False)\n",
    "    .agg({'transactionId': pd.Series.nunique})\n",
    ")\n",
    "ordersByUsersB.columns = ['visitorId', 'transaction']\n",
    "\n",
    "sampleA = pd.concat(\n",
    "    [\n",
    "        ordersByUsersA['transaction'],\n",
    "        pd.Series(\n",
    "            0,\n",
    "            index=np.arange(\n",
    "                visits[visits['group'] == 'A']['visits'].sum()\n",
    "                - len(ordersByUsersA['transaction'])\n",
    "            ),\n",
    "            name='transaction',\n",
    "        ),\n",
    "    ],\n",
    "    axis=0,\n",
    ")\n",
    "sampleB = pd.concat(\n",
    "    [\n",
    "        ordersByUsersB['transaction'],\n",
    "        pd.Series(\n",
    "            0,\n",
    "            index=np.arange(\n",
    "                visits[visits['group'] == 'B']['visits'].sum()\n",
    "                - len(ordersByUsersB['transaction'])\n",
    "            ),\n",
    "            name='transaction',\n",
    "        ),\n",
    "    ],\n",
    "    axis=0,\n",
    ")\n",
    "\n",
    "print('{0:.3f}'.format(sampleB.mean() / sampleA.mean() - 1))"
   ]
  },
  {
   "cell_type": "markdown",
   "metadata": {},
   "source": [
    "O ganho de converção relativo para o grupo B, em comparação co o grupo A, é 13.8% maior"
   ]
  },
  {
   "cell_type": "code",
   "execution_count": 29,
   "metadata": {},
   "outputs": [
    {
     "name": "stdout",
     "output_type": "stream",
     "text": [
      "0.692\n",
      "0.252\n"
     ]
    }
   ],
   "source": [
    "#Significância estatística da diferença no tamanho médio do pedido entre os grupos usando os dados brutos\n",
    "print(\n",
    "    '{0:.3f}'.format(\n",
    "        st.mannwhitneyu(\n",
    "            orders[orders['group'] == 'A']['revenue'],\n",
    "            orders[orders['group'] == 'B']['revenue'],\n",
    "        )[1]\n",
    "    )\n",
    ")\n",
    "print(\n",
    "    '{0:.3f}'.format(\n",
    "        orders[orders['group'] == 'B']['revenue'].mean()\n",
    "        / orders[orders['group'] == 'A']['revenue'].mean()\n",
    "        - 1\n",
    "    )\n",
    ")"
   ]
  },
  {
   "cell_type": "code",
   "execution_count": 41,
   "metadata": {},
   "outputs": [
    {
     "name": "stdout",
     "output_type": "stream",
     "text": [
      "18    199603092\n",
      "23    237748145\n",
      "37    249864742\n",
      "68    457167155\n",
      "68    611059232\n",
      "Name: visitorId, dtype: int64\n"
     ]
    }
   ],
   "source": [
    "#Removendo anomalias\n",
    "usersWithManyOrders = pd.concat(\n",
    "    [\n",
    "        ordersByUsersA[ordersByUsersA['transaction'] > 2]['visitorId'],\n",
    "        ordersByUsersB[ordersByUsersB['transaction'] > 2]['visitorId'],\n",
    "    ],\n",
    "    axis=0,\n",
    ")\n",
    "usersWithExpensiveOrders = orders[orders['revenue'] > 2500]['visitorId']\n",
    "abnormalUsers = (\n",
    "    pd.concat([usersWithManyOrders, usersWithExpensiveOrders], axis=0)\n",
    "    .drop_duplicates()\n",
    "    .sort_values()\n",
    ")\n",
    "print(abnormalUsers.head(5))"
   ]
  },
  {
   "cell_type": "markdown",
   "metadata": {},
   "source": [
    "Os valores anomalos foram excluido para os calculos da significancia estatistica"
   ]
  },
  {
   "cell_type": "markdown",
   "metadata": {},
   "source": [
    "<div class=\"alert alert-block alert-danger\">\n",
    "<b> Comentário do revisor: </b> <a class=\"tocSkip\"></a>\n",
    "    \n",
    "- <s>Aqui ficou pendente a sua interpretação dos resultados acima</s>\n",
    "- <s>Você precisa também as suas hipóteses nula e alternativa</s>\n",
    "</div>"
   ]
  },
  {
   "cell_type": "code",
   "execution_count": 39,
   "metadata": {},
   "outputs": [
    {
     "name": "stdout",
     "output_type": "stream",
     "text": [
      "0.168\n"
     ]
    }
   ],
   "source": [
    "#Significância estatística da diferença na conversão entre os grupos usando os dados filtrados\n",
    "sampleAFiltered = pd.concat([ordersByUsersA[np.logical_not(ordersByUsersA['visitorId'].isin(abnormalUsers))]['transaction'],pd.Series(0, index=np.arange(visits[visits['group']=='A']['visits'].sum() - len(ordersByUsersA['transaction'])),name='transaction')],axis=0)\n",
    "\n",
    "sampleBFiltered = pd.concat([ordersByUsersB[np.logical_not(ordersByUsersB['visitorId'].isin(abnormalUsers))]['transaction'],pd.Series(0, index=np.arange(visits[visits['group']=='B']['visits'].sum() - len(ordersByUsersB['transaction'])),name='transaction')],axis=0)\n",
    "\n",
    "print('{0:.3f}'.format(sampleBFiltered.mean() / sampleAFiltered.mean()-1))"
   ]
  },
  {
   "cell_type": "markdown",
   "metadata": {},
   "source": [
    "A diferença estatistica é  de 16.8% o que torna o grupo B melhor do que o grupo A"
   ]
  },
  {
   "cell_type": "markdown",
   "metadata": {},
   "source": [
    "<div class=\"alert alert-block alert-danger\">\n",
    "<b> Comentário do revisor: </b> <a class=\"tocSkip\"></a>\n",
    "    \n",
    "<s>Aqui ficou pendente a sua interpretação dos resultados acima.</s>\n",
    "</div>"
   ]
  },
  {
   "cell_type": "code",
   "execution_count": 40,
   "metadata": {},
   "outputs": [
    {
     "name": "stdout",
     "output_type": "stream",
     "text": [
      "0.670\n",
      "-0.055\n"
     ]
    }
   ],
   "source": [
    "#significância estatística da diferença no tamanho médio do pedido entre os grupos usando os dados filtrados\n",
    "print(\n",
    "    \"{0:.3f}\".format(\n",
    "        st.mannwhitneyu(\n",
    "            orders[\n",
    "                np.logical_and(\n",
    "                    orders['group'] == 'A',\n",
    "                    np.logical_not(orders['visitorId'].isin(abnormalUsers)),\n",
    "                )\n",
    "            ]['revenue'],\n",
    "            orders[\n",
    "                np.logical_and(\n",
    "                    orders['group'] == 'B',\n",
    "                    np.logical_not(orders['visitorId'].isin(abnormalUsers)),\n",
    "                )\n",
    "            ]['revenue'],\n",
    "        )[1]\n",
    "    )\n",
    ")\n",
    "\n",
    "print(\n",
    "    \"{0:.3f}\".format(\n",
    "        orders[\n",
    "            np.logical_and(\n",
    "                orders['group'] == 'B',\n",
    "                np.logical_not(orders['visitorId'].isin(abnormalUsers)),\n",
    "            )\n",
    "        ]['revenue'].mean()\n",
    "        / orders[\n",
    "            np.logical_and(\n",
    "                orders['group'] == 'A',\n",
    "                np.logical_not(orders['visitorId'].isin(abnormalUsers)),\n",
    "            )\n",
    "        ]['revenue'].mean()\n",
    "        - 1\n",
    "    )\n",
    ")"
   ]
  },
  {
   "cell_type": "markdown",
   "metadata": {},
   "source": [
    "Com todos esses dados analisados o mais sensato a se fazer é parar o teste e considerar o grupo B um sucesso"
   ]
  },
  {
   "cell_type": "markdown",
   "metadata": {},
   "source": [
    "</div><div class=\"alert alert-block alert-success\">\n",
    "<b> Comentário do revisor: </b> <a class=\"tocSkip\"></a>\n",
    "\n",
    "- As conclusões finais foram apresentadas\n",
    "- A recomendação foi de parar o teste. Vale ressaltar que, a depender do cenário, uma alternativa seria rodar o teste por mais tempo para coletar mais dados. Entretanto, o custo de rodar esse processo por mais tempo seria maior e possivelmente inviável para a organização.\n",
    "\n",
    "</div>"
   ]
  }
 ],
 "metadata": {
  "ExecuteTimeLog": [
   {
    "duration": 4890,
    "start_time": "2024-07-28T22:50:47.913Z"
   },
   {
    "duration": 428,
    "start_time": "2024-07-28T22:59:01.023Z"
   },
   {
    "duration": 26,
    "start_time": "2024-07-28T23:00:17.108Z"
   },
   {
    "duration": 13,
    "start_time": "2024-07-28T23:09:56.139Z"
   },
   {
    "duration": 15,
    "start_time": "2024-07-28T23:10:09.654Z"
   },
   {
    "duration": 10,
    "start_time": "2024-07-28T23:10:40.232Z"
   },
   {
    "duration": 18,
    "start_time": "2024-07-28T23:10:56.100Z"
   },
   {
    "duration": 13,
    "start_time": "2024-07-28T23:11:07.792Z"
   },
   {
    "duration": 14,
    "start_time": "2024-07-28T23:11:39.173Z"
   },
   {
    "duration": 13,
    "start_time": "2024-07-28T23:11:56.831Z"
   },
   {
    "duration": 14,
    "start_time": "2024-07-28T23:12:11.106Z"
   },
   {
    "duration": 14,
    "start_time": "2024-07-28T23:14:09.412Z"
   },
   {
    "duration": 19,
    "start_time": "2024-07-29T00:15:32.282Z"
   },
   {
    "duration": 9,
    "start_time": "2024-07-29T00:15:32.532Z"
   },
   {
    "duration": 13,
    "start_time": "2024-07-29T00:15:32.978Z"
   },
   {
    "duration": 9,
    "start_time": "2024-07-29T00:16:21.039Z"
   },
   {
    "duration": 9,
    "start_time": "2024-07-29T00:16:21.196Z"
   },
   {
    "duration": 864,
    "start_time": "2024-07-29T00:16:56.000Z"
   },
   {
    "duration": 178,
    "start_time": "2024-07-29T00:17:13.961Z"
   },
   {
    "duration": 177,
    "start_time": "2024-07-29T00:17:28.672Z"
   },
   {
    "duration": 16,
    "start_time": "2024-07-29T00:21:14.612Z"
   },
   {
    "duration": 11,
    "start_time": "2024-07-29T00:21:16.460Z"
   },
   {
    "duration": 5,
    "start_time": "2024-07-29T00:21:41.799Z"
   },
   {
    "duration": 10,
    "start_time": "2024-07-29T00:21:42.114Z"
   },
   {
    "duration": 15,
    "start_time": "2024-07-29T00:21:57.413Z"
   },
   {
    "duration": 11,
    "start_time": "2024-07-29T00:21:57.640Z"
   },
   {
    "duration": 833,
    "start_time": "2024-07-29T00:27:36.484Z"
   },
   {
    "duration": 89,
    "start_time": "2024-07-29T00:28:31.275Z"
   },
   {
    "duration": 11,
    "start_time": "2024-07-29T00:28:43.601Z"
   },
   {
    "duration": 28,
    "start_time": "2024-07-29T00:32:01.841Z"
   },
   {
    "duration": 12,
    "start_time": "2024-07-29T00:32:12.100Z"
   },
   {
    "duration": 4856,
    "start_time": "2024-07-29T12:48:07.772Z"
   },
   {
    "duration": 26,
    "start_time": "2024-07-29T12:48:12.635Z"
   },
   {
    "duration": 16,
    "start_time": "2024-07-29T12:48:12.664Z"
   },
   {
    "duration": 15,
    "start_time": "2024-07-29T12:48:12.684Z"
   },
   {
    "duration": 45,
    "start_time": "2024-07-29T12:48:12.702Z"
   },
   {
    "duration": 15,
    "start_time": "2024-07-29T12:48:12.750Z"
   },
   {
    "duration": 15,
    "start_time": "2024-07-29T12:48:12.769Z"
   },
   {
    "duration": 13,
    "start_time": "2024-07-29T12:48:13.194Z"
   },
   {
    "duration": 12,
    "start_time": "2024-07-29T12:48:16.009Z"
   },
   {
    "duration": 11,
    "start_time": "2024-07-29T12:48:16.778Z"
   },
   {
    "duration": 663,
    "start_time": "2024-07-29T13:13:30.367Z"
   },
   {
    "duration": 4,
    "start_time": "2024-07-29T13:13:59.643Z"
   },
   {
    "duration": 18,
    "start_time": "2024-07-29T13:14:11.465Z"
   },
   {
    "duration": 11,
    "start_time": "2024-07-29T13:14:11.655Z"
   },
   {
    "duration": 17,
    "start_time": "2024-07-29T13:14:11.817Z"
   },
   {
    "duration": 17,
    "start_time": "2024-07-29T13:14:11.960Z"
   },
   {
    "duration": 14,
    "start_time": "2024-07-29T13:14:12.176Z"
   },
   {
    "duration": 13,
    "start_time": "2024-07-29T13:14:12.312Z"
   },
   {
    "duration": 13,
    "start_time": "2024-07-29T13:14:12.442Z"
   },
   {
    "duration": 10,
    "start_time": "2024-07-29T13:14:12.656Z"
   },
   {
    "duration": 11,
    "start_time": "2024-07-29T13:14:12.760Z"
   },
   {
    "duration": 254,
    "start_time": "2024-07-29T13:14:13.824Z"
   },
   {
    "duration": 115,
    "start_time": "2024-07-29T13:14:48.032Z"
   },
   {
    "duration": 119,
    "start_time": "2024-07-29T13:15:33.683Z"
   },
   {
    "duration": 22,
    "start_time": "2024-07-29T13:17:50.950Z"
   },
   {
    "duration": 69,
    "start_time": "2024-07-29T13:18:25.520Z"
   },
   {
    "duration": 67,
    "start_time": "2024-07-29T13:18:43.087Z"
   },
   {
    "duration": 67,
    "start_time": "2024-07-29T13:21:35.690Z"
   },
   {
    "duration": 5,
    "start_time": "2024-07-29T13:23:34.030Z"
   },
   {
    "duration": 8,
    "start_time": "2024-07-29T13:24:13.000Z"
   },
   {
    "duration": 28,
    "start_time": "2024-07-29T13:24:38.750Z"
   },
   {
    "duration": 29,
    "start_time": "2024-07-29T13:24:42.830Z"
   },
   {
    "duration": 20,
    "start_time": "2024-07-29T13:24:48.137Z"
   },
   {
    "duration": 8,
    "start_time": "2024-07-29T13:24:56.575Z"
   },
   {
    "duration": 776,
    "start_time": "2024-07-29T13:33:19.749Z"
   },
   {
    "duration": 348,
    "start_time": "2024-07-29T13:34:24.004Z"
   },
   {
    "duration": 391,
    "start_time": "2024-07-29T13:35:03.343Z"
   },
   {
    "duration": 407,
    "start_time": "2024-07-29T13:35:18.650Z"
   },
   {
    "duration": 259,
    "start_time": "2024-07-29T13:35:24.555Z"
   },
   {
    "duration": 9,
    "start_time": "2024-07-29T13:36:27.991Z"
   },
   {
    "duration": 7,
    "start_time": "2024-07-29T13:36:46.803Z"
   },
   {
    "duration": 448,
    "start_time": "2024-07-29T13:37:06.625Z"
   },
   {
    "duration": 334,
    "start_time": "2024-07-29T13:37:21.837Z"
   },
   {
    "duration": 298,
    "start_time": "2024-07-29T13:37:40.675Z"
   },
   {
    "duration": 360,
    "start_time": "2024-07-29T13:37:57.360Z"
   },
   {
    "duration": 273,
    "start_time": "2024-07-29T13:38:09.349Z"
   },
   {
    "duration": 340,
    "start_time": "2024-07-29T13:38:32.974Z"
   },
   {
    "duration": 303,
    "start_time": "2024-07-29T13:39:13.319Z"
   },
   {
    "duration": 318,
    "start_time": "2024-07-29T13:39:21.796Z"
   },
   {
    "duration": 326,
    "start_time": "2024-07-29T13:39:33.615Z"
   },
   {
    "duration": 477,
    "start_time": "2024-07-29T13:44:10.176Z"
   },
   {
    "duration": 357,
    "start_time": "2024-07-29T13:44:29.751Z"
   },
   {
    "duration": 345,
    "start_time": "2024-07-29T14:02:31.639Z"
   },
   {
    "duration": 326,
    "start_time": "2024-07-29T14:02:44.478Z"
   },
   {
    "duration": 545,
    "start_time": "2024-07-29T14:26:23.809Z"
   },
   {
    "duration": 326,
    "start_time": "2024-07-29T14:26:25.472Z"
   },
   {
    "duration": 9,
    "start_time": "2024-07-29T14:26:55.584Z"
   },
   {
    "duration": 242,
    "start_time": "2024-07-29T14:26:55.836Z"
   },
   {
    "duration": 233,
    "start_time": "2024-07-29T14:27:24.194Z"
   },
   {
    "duration": 34,
    "start_time": "2024-07-29T14:29:05.283Z"
   },
   {
    "duration": 363,
    "start_time": "2024-07-29T14:29:11.946Z"
   },
   {
    "duration": 345,
    "start_time": "2024-07-29T14:33:50.234Z"
   },
   {
    "duration": 463,
    "start_time": "2024-07-29T14:34:18.220Z"
   },
   {
    "duration": 279,
    "start_time": "2024-07-29T14:35:48.932Z"
   },
   {
    "duration": 360,
    "start_time": "2024-07-29T14:39:46.555Z"
   },
   {
    "duration": 27,
    "start_time": "2024-07-29T14:54:21.535Z"
   },
   {
    "duration": 30,
    "start_time": "2024-07-29T14:55:04.129Z"
   },
   {
    "duration": 363,
    "start_time": "2024-07-29T14:55:41.378Z"
   },
   {
    "duration": 241,
    "start_time": "2024-07-29T14:57:03.372Z"
   },
   {
    "duration": 258,
    "start_time": "2024-07-29T14:58:27.821Z"
   },
   {
    "duration": 245,
    "start_time": "2024-07-29T14:58:41.532Z"
   },
   {
    "duration": 4,
    "start_time": "2024-07-29T14:58:50.175Z"
   },
   {
    "duration": 18,
    "start_time": "2024-07-29T14:58:50.350Z"
   },
   {
    "duration": 11,
    "start_time": "2024-07-29T14:58:50.523Z"
   },
   {
    "duration": 14,
    "start_time": "2024-07-29T14:58:50.655Z"
   },
   {
    "duration": 18,
    "start_time": "2024-07-29T14:58:50.796Z"
   },
   {
    "duration": 15,
    "start_time": "2024-07-29T14:58:50.932Z"
   },
   {
    "duration": 13,
    "start_time": "2024-07-29T14:58:51.063Z"
   },
   {
    "duration": 13,
    "start_time": "2024-07-29T14:58:51.197Z"
   },
   {
    "duration": 12,
    "start_time": "2024-07-29T14:58:51.404Z"
   },
   {
    "duration": 12,
    "start_time": "2024-07-29T14:58:51.558Z"
   },
   {
    "duration": 7,
    "start_time": "2024-07-29T14:58:52.065Z"
   },
   {
    "duration": 411,
    "start_time": "2024-07-29T14:58:52.229Z"
   },
   {
    "duration": 354,
    "start_time": "2024-07-29T14:58:52.643Z"
   },
   {
    "duration": 356,
    "start_time": "2024-07-29T14:58:53.001Z"
   },
   {
    "duration": 16,
    "start_time": "2024-07-29T14:58:53.365Z"
   },
   {
    "duration": 485,
    "start_time": "2024-07-29T14:58:53.389Z"
   },
   {
    "duration": 372,
    "start_time": "2024-07-29T14:58:53.878Z"
   },
   {
    "duration": 265,
    "start_time": "2024-07-29T14:58:54.254Z"
   },
   {
    "duration": 263,
    "start_time": "2024-07-29T14:59:39.942Z"
   },
   {
    "duration": 238,
    "start_time": "2024-07-29T15:00:50.953Z"
   },
   {
    "duration": 230,
    "start_time": "2024-07-29T15:02:09.969Z"
   },
   {
    "duration": 198,
    "start_time": "2024-07-29T15:14:15.804Z"
   },
   {
    "duration": 209,
    "start_time": "2024-07-29T15:15:19.133Z"
   },
   {
    "duration": 5,
    "start_time": "2024-07-29T15:17:02.312Z"
   },
   {
    "duration": 154,
    "start_time": "2024-07-29T15:17:35.623Z"
   },
   {
    "duration": 10,
    "start_time": "2024-07-29T15:17:45.145Z"
   },
   {
    "duration": 5141,
    "start_time": "2024-07-31T16:25:36.901Z"
   },
   {
    "duration": 31,
    "start_time": "2024-07-31T16:25:42.047Z"
   },
   {
    "duration": 25,
    "start_time": "2024-07-31T16:25:42.081Z"
   },
   {
    "duration": 16,
    "start_time": "2024-07-31T16:25:42.111Z"
   },
   {
    "duration": 20,
    "start_time": "2024-07-31T16:25:42.130Z"
   },
   {
    "duration": 54,
    "start_time": "2024-07-31T16:25:42.153Z"
   },
   {
    "duration": 16,
    "start_time": "2024-07-31T16:25:42.210Z"
   },
   {
    "duration": 16,
    "start_time": "2024-07-31T16:25:42.230Z"
   },
   {
    "duration": 58,
    "start_time": "2024-07-31T16:25:42.249Z"
   },
   {
    "duration": 12,
    "start_time": "2024-07-31T16:25:42.312Z"
   },
   {
    "duration": 10,
    "start_time": "2024-07-31T16:25:42.327Z"
   },
   {
    "duration": 501,
    "start_time": "2024-07-31T16:25:42.340Z"
   },
   {
    "duration": 380,
    "start_time": "2024-07-31T16:25:42.844Z"
   },
   {
    "duration": 370,
    "start_time": "2024-07-31T16:25:43.228Z"
   },
   {
    "duration": 9,
    "start_time": "2024-07-31T16:25:43.600Z"
   },
   {
    "duration": 482,
    "start_time": "2024-07-31T16:25:43.612Z"
   },
   {
    "duration": 377,
    "start_time": "2024-07-31T16:25:44.097Z"
   },
   {
    "duration": 15,
    "start_time": "2024-07-31T16:39:26.938Z"
   },
   {
    "duration": 479,
    "start_time": "2024-07-31T16:39:48.776Z"
   },
   {
    "duration": 1142,
    "start_time": "2024-07-31T16:44:34.357Z"
   },
   {
    "duration": 350,
    "start_time": "2024-07-31T16:45:25.506Z"
   },
   {
    "duration": 354,
    "start_time": "2024-07-31T16:45:55.609Z"
   },
   {
    "duration": 266,
    "start_time": "2024-07-31T16:46:08.420Z"
   },
   {
    "duration": 302,
    "start_time": "2024-07-31T16:46:47.393Z"
   },
   {
    "duration": 235,
    "start_time": "2024-07-31T16:47:30.337Z"
   },
   {
    "duration": 6,
    "start_time": "2024-07-31T16:59:01.677Z"
   },
   {
    "duration": 90,
    "start_time": "2024-07-31T17:15:37.179Z"
   },
   {
    "duration": 15,
    "start_time": "2024-07-31T17:16:05.880Z"
   },
   {
    "duration": 38,
    "start_time": "2024-07-31T17:24:08.061Z"
   },
   {
    "duration": 20,
    "start_time": "2024-07-31T17:24:19.301Z"
   },
   {
    "duration": 99,
    "start_time": "2024-07-31T17:29:12.681Z"
   },
   {
    "duration": 37,
    "start_time": "2024-07-31T17:29:54.905Z"
   },
   {
    "duration": 39,
    "start_time": "2024-07-31T17:30:24.229Z"
   },
   {
    "duration": 40,
    "start_time": "2024-07-31T17:30:32.971Z"
   },
   {
    "duration": 15,
    "start_time": "2024-07-31T17:31:44.180Z"
   },
   {
    "duration": 32,
    "start_time": "2024-07-31T17:33:55.755Z"
   },
   {
    "duration": 15,
    "start_time": "2024-07-31T17:34:06.239Z"
   },
   {
    "duration": 20,
    "start_time": "2024-07-31T17:34:35.479Z"
   },
   {
    "duration": 12,
    "start_time": "2024-07-31T17:34:35.828Z"
   },
   {
    "duration": 12,
    "start_time": "2024-07-31T17:35:13.424Z"
   },
   {
    "duration": 17,
    "start_time": "2024-07-31T17:35:17.722Z"
   },
   {
    "duration": 20,
    "start_time": "2024-07-31T17:35:25.015Z"
   },
   {
    "duration": 304,
    "start_time": "2024-08-01T12:54:32.307Z"
   },
   {
    "duration": 4854,
    "start_time": "2024-08-01T12:54:39.100Z"
   },
   {
    "duration": 27,
    "start_time": "2024-08-01T12:54:43.957Z"
   },
   {
    "duration": 17,
    "start_time": "2024-08-01T12:54:43.987Z"
   },
   {
    "duration": 27,
    "start_time": "2024-08-01T12:54:44.007Z"
   },
   {
    "duration": 19,
    "start_time": "2024-08-01T12:54:44.038Z"
   },
   {
    "duration": 16,
    "start_time": "2024-08-01T12:54:44.060Z"
   },
   {
    "duration": 50,
    "start_time": "2024-08-01T12:54:44.079Z"
   },
   {
    "duration": 14,
    "start_time": "2024-08-01T12:54:44.132Z"
   },
   {
    "duration": 21,
    "start_time": "2024-08-01T12:54:44.149Z"
   },
   {
    "duration": 21,
    "start_time": "2024-08-01T12:57:17.293Z"
   },
   {
    "duration": 19,
    "start_time": "2024-08-01T12:57:27.865Z"
   },
   {
    "duration": 14,
    "start_time": "2024-08-01T12:57:40.208Z"
   },
   {
    "duration": 121,
    "start_time": "2024-08-01T13:04:33.768Z"
   },
   {
    "duration": 7,
    "start_time": "2024-08-01T13:04:42.625Z"
   },
   {
    "duration": 10,
    "start_time": "2024-08-01T13:04:53.089Z"
   },
   {
    "duration": 8,
    "start_time": "2024-08-01T13:04:57.611Z"
   },
   {
    "duration": 12,
    "start_time": "2024-08-01T13:05:43.498Z"
   },
   {
    "duration": 16,
    "start_time": "2024-08-01T13:06:13.235Z"
   },
   {
    "duration": 15,
    "start_time": "2024-08-01T13:06:26.563Z"
   },
   {
    "duration": 11,
    "start_time": "2024-08-01T13:10:32.795Z"
   },
   {
    "duration": 11,
    "start_time": "2024-08-01T13:10:34.065Z"
   },
   {
    "duration": 9,
    "start_time": "2024-08-01T13:10:34.994Z"
   },
   {
    "duration": 406,
    "start_time": "2024-08-01T13:10:35.410Z"
   },
   {
    "duration": 357,
    "start_time": "2024-08-01T13:10:35.899Z"
   },
   {
    "duration": 332,
    "start_time": "2024-08-01T13:10:36.730Z"
   },
   {
    "duration": 8,
    "start_time": "2024-08-01T13:10:37.468Z"
   },
   {
    "duration": 438,
    "start_time": "2024-08-01T13:10:37.657Z"
   },
   {
    "duration": 432,
    "start_time": "2024-08-01T13:10:38.145Z"
   },
   {
    "duration": 307,
    "start_time": "2024-08-01T15:07:18.846Z"
   },
   {
    "duration": 4781,
    "start_time": "2024-08-01T15:08:00.199Z"
   },
   {
    "duration": 29,
    "start_time": "2024-08-01T15:08:04.984Z"
   },
   {
    "duration": 17,
    "start_time": "2024-08-01T15:08:05.015Z"
   },
   {
    "duration": 15,
    "start_time": "2024-08-01T15:08:05.036Z"
   },
   {
    "duration": 18,
    "start_time": "2024-08-01T15:08:05.055Z"
   },
   {
    "duration": 54,
    "start_time": "2024-08-01T15:08:05.076Z"
   },
   {
    "duration": 14,
    "start_time": "2024-08-01T15:08:05.133Z"
   },
   {
    "duration": 14,
    "start_time": "2024-08-01T15:08:05.153Z"
   },
   {
    "duration": 10,
    "start_time": "2024-08-01T15:08:05.170Z"
   },
   {
    "duration": 50,
    "start_time": "2024-08-01T15:08:05.182Z"
   },
   {
    "duration": 10,
    "start_time": "2024-08-01T15:08:05.234Z"
   },
   {
    "duration": 13,
    "start_time": "2024-08-01T15:08:05.246Z"
   },
   {
    "duration": 16,
    "start_time": "2024-08-01T15:08:05.263Z"
   },
   {
    "duration": 16,
    "start_time": "2024-08-01T15:08:05.326Z"
   },
   {
    "duration": 15,
    "start_time": "2024-08-01T15:08:05.346Z"
   },
   {
    "duration": 14,
    "start_time": "2024-08-01T15:08:05.364Z"
   },
   {
    "duration": 51,
    "start_time": "2024-08-01T15:08:05.381Z"
   },
   {
    "duration": 431,
    "start_time": "2024-08-01T15:08:05.435Z"
   },
   {
    "duration": 364,
    "start_time": "2024-08-01T15:08:05.868Z"
   },
   {
    "duration": 364,
    "start_time": "2024-08-01T15:08:06.235Z"
   },
   {
    "duration": 9,
    "start_time": "2024-08-01T15:08:06.602Z"
   },
   {
    "duration": 588,
    "start_time": "2024-08-01T15:08:06.613Z"
   },
   {
    "duration": 381,
    "start_time": "2024-08-01T15:08:07.203Z"
   },
   {
    "duration": 246,
    "start_time": "2024-08-01T15:08:07.587Z"
   },
   {
    "duration": 234,
    "start_time": "2024-08-01T15:08:07.837Z"
   },
   {
    "duration": 11,
    "start_time": "2024-08-01T15:08:08.074Z"
   },
   {
    "duration": 289,
    "start_time": "2024-08-01T15:08:08.088Z"
   },
   {
    "duration": 15,
    "start_time": "2024-08-01T15:08:08.379Z"
   },
   {
    "duration": 41,
    "start_time": "2024-08-01T15:08:08.397Z"
   },
   {
    "duration": 141,
    "start_time": "2024-08-01T15:08:08.441Z"
   },
   {
    "duration": 0,
    "start_time": "2024-08-01T15:08:08.585Z"
   },
   {
    "duration": 0,
    "start_time": "2024-08-01T15:08:08.587Z"
   },
   {
    "duration": 31,
    "start_time": "2024-08-01T15:08:51.854Z"
   },
   {
    "duration": 31,
    "start_time": "2024-08-01T15:09:26.865Z"
   },
   {
    "duration": 29,
    "start_time": "2024-08-01T15:11:01.508Z"
   },
   {
    "duration": 31,
    "start_time": "2024-08-01T15:11:30.471Z"
   },
   {
    "duration": 29,
    "start_time": "2024-08-01T15:42:24.731Z"
   },
   {
    "duration": 29,
    "start_time": "2024-08-01T15:42:30.180Z"
   },
   {
    "duration": 173,
    "start_time": "2024-08-01T15:43:32.857Z"
   },
   {
    "duration": 15,
    "start_time": "2024-08-01T15:44:07.068Z"
   },
   {
    "duration": 21,
    "start_time": "2024-08-01T15:44:08.213Z"
   },
   {
    "duration": 11,
    "start_time": "2024-08-01T16:14:13.532Z"
   }
  ],
  "kernelspec": {
   "display_name": "Python 3 (ipykernel)",
   "language": "python",
   "name": "python3"
  },
  "language_info": {
   "codemirror_mode": {
    "name": "ipython",
    "version": 3
   },
   "file_extension": ".py",
   "mimetype": "text/x-python",
   "name": "python",
   "nbconvert_exporter": "python",
   "pygments_lexer": "ipython3",
   "version": "3.9.19"
  },
  "toc": {
   "base_numbering": 1,
   "nav_menu": {},
   "number_sections": true,
   "sideBar": true,
   "skip_h1_title": true,
   "title_cell": "Table of Contents",
   "title_sidebar": "Contents",
   "toc_cell": false,
   "toc_position": {},
   "toc_section_display": true,
   "toc_window_display": false
  }
 },
 "nbformat": 4,
 "nbformat_minor": 2
}
